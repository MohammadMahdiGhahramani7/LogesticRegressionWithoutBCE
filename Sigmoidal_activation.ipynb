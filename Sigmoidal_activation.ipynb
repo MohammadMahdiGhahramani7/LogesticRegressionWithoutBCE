{
  "nbformat": 4,
  "nbformat_minor": 0,
  "metadata": {
    "colab": {
      "name": "Sigmoidal_activation.ipynb",
      "provenance": [],
      "collapsed_sections": [
        "9RmEap7v3e_T",
        "fDZiUiGj3jqF",
        "sXAxtcJC335e",
        "Ith6dyOm4KJa"
      ]
    },
    "kernelspec": {
      "name": "python3",
      "display_name": "Python 3"
    },
    "language_info": {
      "name": "python"
    }
  },
  "cells": [
    {
      "cell_type": "markdown",
      "metadata": {
        "id": "9RmEap7v3e_T"
      },
      "source": [
        "#Imports"
      ]
    },
    {
      "cell_type": "code",
      "metadata": {
        "id": "MSOqwS2d3fOL"
      },
      "source": [
        "import numpy as np\n",
        "import pandas as pd\n",
        "import matplotlib.pyplot as plt\n",
        "import seaborn as sns\n",
        "sns.set_theme()"
      ],
      "execution_count": 5,
      "outputs": []
    },
    {
      "cell_type": "markdown",
      "metadata": {
        "id": "fDZiUiGj3jqF"
      },
      "source": [
        "\n",
        "\n",
        "#My Sigmoidal Model"
      ]
    },
    {
      "cell_type": "code",
      "metadata": {
        "id": "2bLw9MBr3jLy"
      },
      "source": [
        "class My_Sigmoidal_Model:\n",
        "\n",
        "  def __init__(self):\n",
        "\n",
        "    pass\n",
        "\n",
        "  def _sigmoid_(self, num):\n",
        "\n",
        "    return 1 / (1 + np.exp(-num))\n",
        "\n",
        "  def _forward_(self, X, W):\n",
        "\n",
        "    \"\"\"\n",
        "    X : [1, x]\n",
        "    W : [b, w]\n",
        "    \"\"\"\n",
        "\n",
        "    summation = np.dot(W.T, X)\n",
        "\n",
        "    return self._sigmoid_(summation)\n",
        "\n",
        "  def backward(self, X, W, t, lr):\n",
        "\n",
        "    \"\"\"\n",
        "    t : y_real\n",
        "    lr : learning rate\n",
        "    \"\"\"\n",
        "\n",
        "    o = self._forward_(X, W)\n",
        "\n",
        "    W = W + (lr * (t - o) * self._sigmoid_(o) * (1 - self._sigmoid_(o)) * X)\n",
        "\n",
        "    return W\n",
        "\n",
        "  def fit(self, training_df, inp_cols, target_col, epochs, lr):\n",
        "\n",
        "    \"\"\"\n",
        "    epochs : number of iterations\n",
        "    lr : learning rate\n",
        "    \"\"\"\n",
        "\n",
        "    features, target = training_df[inp_cols], training_df[target_col]\n",
        "    self.W = np.zeros(len(features.columns) + 1)\n",
        "\n",
        "    for epoch in range(epochs):\n",
        "\n",
        "      for idx in range(len(training_df)):\n",
        "\n",
        "        new_sample = features.iloc[idx, :].to_numpy()\n",
        "        new_label = target[idx]        \n",
        "\n",
        "        X = np.append(1, new_sample)  # X = [1, x]        \n",
        "\n",
        "        self.W = self.backward(X, self.W, new_label, lr)\n",
        "        # Y = mX + h\n",
        "    self.slope = -self.W[1] / self.W[2]\n",
        "    self.intercept = -self.W[0] / self.W[2]\n",
        "\n",
        "    print(f\"The number of iteration: {epochs}\\nLearning rate: {lr}\\nb: {self.W[0]}\\nw1: {self.W[1]}\\nw2: {self.W[2]}\")\n",
        "\n",
        "  def predict(self, pre_sample):\n",
        "\n",
        "    X_pre = np.append(1, pre_sample) # X = [1, x]\n",
        "\n",
        "    if self._forward_(X_pre, self.W) >= 0.5:\n",
        "\n",
        "      return 1\n",
        "\n",
        "    else:\n",
        "\n",
        "      return 0"
      ],
      "execution_count": 157,
      "outputs": []
    },
    {
      "cell_type": "markdown",
      "metadata": {
        "id": "sXAxtcJC335e"
      },
      "source": [
        "#Train the Model"
      ]
    },
    {
      "cell_type": "code",
      "metadata": {
        "colab": {
          "base_uri": "https://localhost:8080/",
          "height": 355
        },
        "id": "SF0u5ghR3-J4",
        "outputId": "18343091-1f14-48fb-fbea-86ada349139a"
      },
      "source": [
        "x = [i for i in range(1, 11)]\n",
        "y = [4, 1, 1.5, 5, 8, 6, 3, 1, 7.5, 0]\n",
        "target = [1, 0, 0, 1, 1, 1, 0, 0, 1, 0]\n",
        "\n",
        "training_data = pd.DataFrame(None)\n",
        "training_data[\"feature1\"] = x\n",
        "training_data[\"feature2\"] = y\n",
        "training_data[\"target\"] = target\n",
        "\n",
        "training_data"
      ],
      "execution_count": 158,
      "outputs": [
        {
          "output_type": "execute_result",
          "data": {
            "text/html": [
              "<div>\n",
              "<style scoped>\n",
              "    .dataframe tbody tr th:only-of-type {\n",
              "        vertical-align: middle;\n",
              "    }\n",
              "\n",
              "    .dataframe tbody tr th {\n",
              "        vertical-align: top;\n",
              "    }\n",
              "\n",
              "    .dataframe thead th {\n",
              "        text-align: right;\n",
              "    }\n",
              "</style>\n",
              "<table border=\"1\" class=\"dataframe\">\n",
              "  <thead>\n",
              "    <tr style=\"text-align: right;\">\n",
              "      <th></th>\n",
              "      <th>feature1</th>\n",
              "      <th>feature2</th>\n",
              "      <th>target</th>\n",
              "    </tr>\n",
              "  </thead>\n",
              "  <tbody>\n",
              "    <tr>\n",
              "      <th>0</th>\n",
              "      <td>1</td>\n",
              "      <td>4.0</td>\n",
              "      <td>1</td>\n",
              "    </tr>\n",
              "    <tr>\n",
              "      <th>1</th>\n",
              "      <td>2</td>\n",
              "      <td>1.0</td>\n",
              "      <td>0</td>\n",
              "    </tr>\n",
              "    <tr>\n",
              "      <th>2</th>\n",
              "      <td>3</td>\n",
              "      <td>1.5</td>\n",
              "      <td>0</td>\n",
              "    </tr>\n",
              "    <tr>\n",
              "      <th>3</th>\n",
              "      <td>4</td>\n",
              "      <td>5.0</td>\n",
              "      <td>1</td>\n",
              "    </tr>\n",
              "    <tr>\n",
              "      <th>4</th>\n",
              "      <td>5</td>\n",
              "      <td>8.0</td>\n",
              "      <td>1</td>\n",
              "    </tr>\n",
              "    <tr>\n",
              "      <th>5</th>\n",
              "      <td>6</td>\n",
              "      <td>6.0</td>\n",
              "      <td>1</td>\n",
              "    </tr>\n",
              "    <tr>\n",
              "      <th>6</th>\n",
              "      <td>7</td>\n",
              "      <td>3.0</td>\n",
              "      <td>0</td>\n",
              "    </tr>\n",
              "    <tr>\n",
              "      <th>7</th>\n",
              "      <td>8</td>\n",
              "      <td>1.0</td>\n",
              "      <td>0</td>\n",
              "    </tr>\n",
              "    <tr>\n",
              "      <th>8</th>\n",
              "      <td>9</td>\n",
              "      <td>7.5</td>\n",
              "      <td>1</td>\n",
              "    </tr>\n",
              "    <tr>\n",
              "      <th>9</th>\n",
              "      <td>10</td>\n",
              "      <td>0.0</td>\n",
              "      <td>0</td>\n",
              "    </tr>\n",
              "  </tbody>\n",
              "</table>\n",
              "</div>"
            ],
            "text/plain": [
              "   feature1  feature2  target\n",
              "0         1       4.0       1\n",
              "1         2       1.0       0\n",
              "2         3       1.5       0\n",
              "3         4       5.0       1\n",
              "4         5       8.0       1\n",
              "5         6       6.0       1\n",
              "6         7       3.0       0\n",
              "7         8       1.0       0\n",
              "8         9       7.5       1\n",
              "9        10       0.0       0"
            ]
          },
          "metadata": {},
          "execution_count": 158
        }
      ]
    },
    {
      "cell_type": "code",
      "metadata": {
        "colab": {
          "base_uri": "https://localhost:8080/",
          "height": 394
        },
        "id": "pBrliFbc3-Ma",
        "outputId": "3ff0d941-764b-4b25-b347-ca6eac79dc62"
      },
      "source": [
        "plt.figure(figsize=(11, 6))\n",
        "\n",
        "sns.scatterplot(data = training_data, x = \"feature1\", y = \"feature2\", hue = \"target\", palette = [\"red\", \"green\"], s = 40)\n",
        "plt.show()"
      ],
      "execution_count": 159,
      "outputs": [
        {
          "output_type": "display_data",
          "data": {
            "image/png": "[encoded data removed]",
            "text/plain": [
              "<Figure size 792x432 with 1 Axes>"
            ]
          },
          "metadata": {}
        }
      ]
    },
    {
      "cell_type": "code",
      "metadata": {
        "colab": {
          "base_uri": "https://localhost:8080/"
        },
        "id": "fiSxPUS33-O7",
        "outputId": "072de41a-3b1c-4267-cd97-dfe87cc2f6f8"
      },
      "source": [
        "epochs = 5000\n",
        "lr = 0.001\n",
        "\n",
        "model = My_Sigmoidal_Model()\n",
        "\n",
        "model.fit(training_df = training_data, inp_cols = [\"feature1\", \"feature2\"], target_col = \"target\", epochs = epochs, lr = lr)"
      ],
      "execution_count": 160,
      "outputs": [
        {
          "output_type": "stream",
          "name": "stdout",
          "text": [
            "The number of iteration: 5000\n",
            "Learning rate: 0.001\n",
            "b: -0.5824933499985823\n",
            "w1: -0.967609035025488\n",
            "w2: 1.5124496022704428\n"
          ]
        }
      ]
    },
    {
      "cell_type": "code",
      "metadata": {
        "colab": {
          "base_uri": "https://localhost:8080/",
          "height": 394
        },
        "id": "hXBNxoZS3-Rl",
        "outputId": "e9a4ea71-4870-4197-eb61-996c6ff85eda"
      },
      "source": [
        "plt.figure(figsize=(11, 6))\n",
        "\n",
        "m = model.slope\n",
        "h = model.intercept\n",
        "\n",
        "training_data['f_pred'] = m * training_data[\"feature1\"] + h\n",
        "\n",
        "sns.scatterplot(data = training_data, x = \"feature1\", y = \"feature2\", hue = \"target\", palette = [\"red\", \"green\"], s = 40)\n",
        "sns.lineplot(data = training_data, x = \"feature1\", y = \"f_pred\")\n",
        "\n",
        "plt.show()\n",
        "#It is working pretty well :)))"
      ],
      "execution_count": 161,
      "outputs": [
        {
          "output_type": "display_data",
          "data": {
            "image/png": "[encoded data removed]",
            "text/plain": [
              "<Figure size 792x432 with 1 Axes>"
            ]
          },
          "metadata": {}
        }
      ]
    },
    {
      "cell_type": "markdown",
      "metadata": {
        "id": "Ith6dyOm4KJa"
      },
      "source": [
        "#Test the Model"
      ]
    },
    {
      "cell_type": "code",
      "metadata": {
        "colab": {
          "base_uri": "https://localhost:8080/"
        },
        "id": "uoru1c0y4FXc",
        "outputId": "15704226-ffca-49ec-e5ba-7c7ff890ad35"
      },
      "source": [
        "unseen_data = np.array([6.5, 2])\n",
        "\n",
        "model.predict(unseen_data)\n",
        "#As it is expected"
      ],
      "execution_count": 162,
      "outputs": [
        {
          "output_type": "execute_result",
          "data": {
            "text/plain": [
              "0"
            ]
          },
          "metadata": {},
          "execution_count": 162
        }
      ]
    },
    {
      "cell_type": "code",
      "metadata": {
        "colab": {
          "base_uri": "https://localhost:8080/"
        },
        "id": "seTja1GU4OeN",
        "outputId": "12e57977-0a36-4d32-b490-343a3c9c875a"
      },
      "source": [
        "unseen_data = np.array([11, 2])\n",
        "\n",
        "model.predict(unseen_data)\n",
        "#As it is expected"
      ],
      "execution_count": 163,
      "outputs": [
        {
          "output_type": "execute_result",
          "data": {
            "text/plain": [
              "0"
            ]
          },
          "metadata": {},
          "execution_count": 163
        }
      ]
    },
    {
      "cell_type": "code",
      "metadata": {
        "colab": {
          "base_uri": "https://localhost:8080/"
        },
        "id": "JCzCNsLXHQiQ",
        "outputId": "1af70e4c-e34a-4606-b93c-a2d7aff10c0b"
      },
      "source": [
        "unseen_data = np.array([11, 8])\n",
        "\n",
        "model.predict(unseen_data)\n",
        "#As it is expected"
      ],
      "execution_count": 164,
      "outputs": [
        {
          "output_type": "execute_result",
          "data": {
            "text/plain": [
              "1"
            ]
          },
          "metadata": {},
          "execution_count": 164
        }
      ]
    }
  ]
}